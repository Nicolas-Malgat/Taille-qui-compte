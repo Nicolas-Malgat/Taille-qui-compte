{
 "cells": [
  {
   "cell_type": "markdown",
   "metadata": {},
   "source": [
    "# Import "
   ]
  },
  {
   "cell_type": "code",
   "execution_count": 1,
   "metadata": {},
   "outputs": [
    {
     "name": "stderr",
     "output_type": "stream",
     "text": [
      "D:\\ana_conda\\envs\\cnn\\lib\\site-packages\\tensorflow\\python\\framework\\dtypes.py:516: FutureWarning: Passing (type, 1) or '1type' as a synonym of type is deprecated; in a future version of numpy, it will be understood as (type, (1,)) / '(1,)type'.\n",
      "  _np_qint8 = np.dtype([(\"qint8\", np.int8, 1)])\n",
      "D:\\ana_conda\\envs\\cnn\\lib\\site-packages\\tensorflow\\python\\framework\\dtypes.py:517: FutureWarning: Passing (type, 1) or '1type' as a synonym of type is deprecated; in a future version of numpy, it will be understood as (type, (1,)) / '(1,)type'.\n",
      "  _np_quint8 = np.dtype([(\"quint8\", np.uint8, 1)])\n",
      "D:\\ana_conda\\envs\\cnn\\lib\\site-packages\\tensorflow\\python\\framework\\dtypes.py:518: FutureWarning: Passing (type, 1) or '1type' as a synonym of type is deprecated; in a future version of numpy, it will be understood as (type, (1,)) / '(1,)type'.\n",
      "  _np_qint16 = np.dtype([(\"qint16\", np.int16, 1)])\n",
      "D:\\ana_conda\\envs\\cnn\\lib\\site-packages\\tensorflow\\python\\framework\\dtypes.py:519: FutureWarning: Passing (type, 1) or '1type' as a synonym of type is deprecated; in a future version of numpy, it will be understood as (type, (1,)) / '(1,)type'.\n",
      "  _np_quint16 = np.dtype([(\"quint16\", np.uint16, 1)])\n",
      "D:\\ana_conda\\envs\\cnn\\lib\\site-packages\\tensorflow\\python\\framework\\dtypes.py:520: FutureWarning: Passing (type, 1) or '1type' as a synonym of type is deprecated; in a future version of numpy, it will be understood as (type, (1,)) / '(1,)type'.\n",
      "  _np_qint32 = np.dtype([(\"qint32\", np.int32, 1)])\n",
      "D:\\ana_conda\\envs\\cnn\\lib\\site-packages\\tensorflow\\python\\framework\\dtypes.py:525: FutureWarning: Passing (type, 1) or '1type' as a synonym of type is deprecated; in a future version of numpy, it will be understood as (type, (1,)) / '(1,)type'.\n",
      "  np_resource = np.dtype([(\"resource\", np.ubyte, 1)])\n",
      "D:\\ana_conda\\envs\\cnn\\lib\\site-packages\\tensorboard\\compat\\tensorflow_stub\\dtypes.py:541: FutureWarning: Passing (type, 1) or '1type' as a synonym of type is deprecated; in a future version of numpy, it will be understood as (type, (1,)) / '(1,)type'.\n",
      "  _np_qint8 = np.dtype([(\"qint8\", np.int8, 1)])\n",
      "D:\\ana_conda\\envs\\cnn\\lib\\site-packages\\tensorboard\\compat\\tensorflow_stub\\dtypes.py:542: FutureWarning: Passing (type, 1) or '1type' as a synonym of type is deprecated; in a future version of numpy, it will be understood as (type, (1,)) / '(1,)type'.\n",
      "  _np_quint8 = np.dtype([(\"quint8\", np.uint8, 1)])\n",
      "D:\\ana_conda\\envs\\cnn\\lib\\site-packages\\tensorboard\\compat\\tensorflow_stub\\dtypes.py:543: FutureWarning: Passing (type, 1) or '1type' as a synonym of type is deprecated; in a future version of numpy, it will be understood as (type, (1,)) / '(1,)type'.\n",
      "  _np_qint16 = np.dtype([(\"qint16\", np.int16, 1)])\n",
      "D:\\ana_conda\\envs\\cnn\\lib\\site-packages\\tensorboard\\compat\\tensorflow_stub\\dtypes.py:544: FutureWarning: Passing (type, 1) or '1type' as a synonym of type is deprecated; in a future version of numpy, it will be understood as (type, (1,)) / '(1,)type'.\n",
      "  _np_quint16 = np.dtype([(\"quint16\", np.uint16, 1)])\n",
      "D:\\ana_conda\\envs\\cnn\\lib\\site-packages\\tensorboard\\compat\\tensorflow_stub\\dtypes.py:545: FutureWarning: Passing (type, 1) or '1type' as a synonym of type is deprecated; in a future version of numpy, it will be understood as (type, (1,)) / '(1,)type'.\n",
      "  _np_qint32 = np.dtype([(\"qint32\", np.int32, 1)])\n",
      "D:\\ana_conda\\envs\\cnn\\lib\\site-packages\\tensorboard\\compat\\tensorflow_stub\\dtypes.py:550: FutureWarning: Passing (type, 1) or '1type' as a synonym of type is deprecated; in a future version of numpy, it will be understood as (type, (1,)) / '(1,)type'.\n",
      "  np_resource = np.dtype([(\"resource\", np.ubyte, 1)])\n"
     ]
    }
   ],
   "source": [
    "import os\n",
    "\n",
    "# ignore les deprecated de tensorflow\n",
    "os.environ['TF_CPP_MIN_LOG_LEVEL'] = '3'\n",
    "import tensorflow.python.util.deprecation as deprecation\n",
    "deprecation._PRINT_DEPRECATION_WARNINGS = False\n",
    "import tensorflow as tf\n",
    "\n",
    "from tensorflow.keras.models import Sequential\n",
    "from tensorflow.keras.layers import Conv2D, GlobalAveragePooling2D, GlobalMaxPooling2D, MaxPooling2D, AveragePooling2D, Activation, Dropout, Flatten, Dense\n",
    "\n",
    "import matplotlib.pyplot as plt\n",
    "\n",
    "from tensorflow.keras.preprocessing import image\n",
    "import numpy as np\n",
    "\n",
    "from tensorflow.keras.preprocessing.image import ImageDataGenerator\n"
   ]
  },
  {
   "cell_type": "markdown",
   "metadata": {},
   "source": [
    "## Telechargement du ZIP"
   ]
  },
  {
   "cell_type": "code",
   "execution_count": 3,
   "metadata": {},
   "outputs": [
    {
     "name": "stdout",
     "output_type": "stream",
     "text": [
      "Le fichier existe déjà\n",
      "Successfully created the directory ../datas/RAW/cifar-10\n",
      "\n",
      "Les fichiers sont correctement extractés\n"
     ]
    }
   ],
   "source": [
    "from modules.loader import Loader\r\n",
    "\r\n",
    "loader = Loader(\r\n",
    "    \"https://www.cs.toronto.edu/~kriz/cifar-10-python.tar.gz\",\r\n",
    "    '../datas/ZIP/',\r\n",
    "    extraction_target='../datas/RAW/cifar-10',\r\n",
    "    skip_unzip=False\r\n",
    ")\r\n",
    "loader.ensure_data_loaded()"
   ]
  },
  {
   "cell_type": "code",
   "execution_count": 5,
   "metadata": {},
   "outputs": [],
   "source": [
    "from extract_cifar import extract_cifar_10, get_meta_information\r\n",
    "\r\n",
    "cifar_path = '..' + os.sep + 'datas' + os.sep + 'RAW' + os.sep + 'cifar-10'\r\n",
    "cifar_path += os.sep + os.listdir('..' + os.sep + 'datas' + os.sep + 'RAW' + os.sep + 'cifar-10')[0]\r\n",
    "\r\n",
    "curated_path = '..' + os.sep + 'datas' + os.sep + 'CURATED' + os.sep + 'taillequicompte'\r\n",
    "\r\n",
    "if not os.path.exists(curated_path):\r\n",
    "    label_list = extract_cifar_10(cifar_path, curated_path)\r\n",
    "else:\r\n",
    "    label_list, _, _ = get_meta_information(cifar_path + os.sep + 'batches.meta')\r\n",
    "    print('les fichiers ont déjà été extractés')"
   ]
  },
  {
   "cell_type": "markdown",
   "metadata": {},
   "source": [
    "## Splitting d'un jeu d'images"
   ]
  },
  {
   "cell_type": "code",
   "execution_count": 6,
   "metadata": {},
   "outputs": [
    {
     "name": "stdout",
     "output_type": "stream",
     "text": [
      "Successfully created the directory d:\\simplon\\datas\\CURATED\\taillequicompte\\train4000_airplane_automobile_bird_cat_deer_dog_frog_horse_ship_truck\n",
      "Creation du dossier airplane\n",
      "Creation du dossier automobile\n",
      "Creation du dossier bird\n",
      "Creation du dossier cat\n",
      "Creation du dossier deer\n",
      "Creation du dossier dog\n",
      "Creation du dossier frog\n",
      "Creation du dossier horse\n",
      "Creation du dossier ship\n",
      "Creation du dossier truck\n",
      "Successfully created the directory d:\\simplon\\datas\\CURATED\\taillequicompte\\test1000_airplane_automobile_bird_cat_deer_dog_frog_horse_ship_truck\n",
      "Creation du dossier airplane\n",
      "Creation du dossier automobile\n",
      "Creation du dossier bird\n",
      "Creation du dossier cat\n",
      "Creation du dossier deer\n",
      "Creation du dossier dog\n",
      "Creation du dossier frog\n",
      "Creation du dossier horse\n",
      "Creation du dossier ship\n",
      "Creation du dossier truck\n"
     ]
    }
   ],
   "source": [
    "from modules.splitting_img import Splitting\n",
    "\n",
    "TRAIN_DATA_DIR = Splitting.copie_dossiers(\n",
    "    curated_path + os.sep + \"train\",\n",
    "    label_list,\n",
    "    4000,\n",
    "    explorer=True\n",
    ")\n",
    "\n",
    "TEST_DATA_DIR = Splitting.copie_dossiers(\n",
    "    curated_path + os.sep + \"test\",\n",
    "    label_list,\n",
    "    1000,\n",
    "    explorer=True\n",
    ")"
   ]
  },
  {
   "cell_type": "markdown",
   "metadata": {},
   "source": [
    "## Chargement des images"
   ]
  },
  {
   "cell_type": "code",
   "execution_count": 7,
   "metadata": {},
   "outputs": [
    {
     "name": "stdout",
     "output_type": "stream",
     "text": [
      "Found 40000 images belonging to 10 classes.\n",
      "Found 40000 images belonging to 10 classes.\n",
      "Found 10000 images belonging to 10 classes.\n"
     ]
    }
   ],
   "source": [
    "# Taille d'image\n",
    "TRAIN_IMAGE_SIZE = 32\n",
    "# NB d'images envoyées à la fois\n",
    "TRAIN_BATCH_SIZE = 64\n",
    "\n",
    "train_datagen = ImageDataGenerator(rescale=1./255)\n",
    "train_generator = train_datagen.flow_from_directory(\n",
    "    TRAIN_DATA_DIR,\n",
    "    target_size=(TRAIN_IMAGE_SIZE, TRAIN_IMAGE_SIZE),\n",
    "    batch_size=TRAIN_BATCH_SIZE,\n",
    "    class_mode='categorical')\n",
    "\n",
    "augmented_datagen = ImageDataGenerator(\n",
    "    rescale=1./255,\n",
    "    rotation_range=10,\n",
    "    width_shift_range=0.1,\n",
    "    height_shift_range=0.1,\n",
    "    shear_range=0.2,\n",
    "    zoom_range=0.2,\n",
    "    horizontal_flip=True,\n",
    "    brightness_range=(0.3, 1.25)\n",
    ")\n",
    "train_generator_augmented = augmented_datagen.flow_from_directory(\n",
    "    TRAIN_DATA_DIR,\n",
    "    target_size=(TRAIN_IMAGE_SIZE, TRAIN_IMAGE_SIZE),\n",
    "    batch_size=TRAIN_BATCH_SIZE,\n",
    "    class_mode='categorical')\n",
    "\n",
    "test_datagen = ImageDataGenerator(rescale=1./255)\n",
    "validation_generator = test_datagen.flow_from_directory(\n",
    "    TEST_DATA_DIR,\n",
    "    target_size=(TRAIN_IMAGE_SIZE, TRAIN_IMAGE_SIZE),\n",
    "    batch_size=TRAIN_BATCH_SIZE,\n",
    "    class_mode='categorical')"
   ]
  },
  {
   "cell_type": "markdown",
   "metadata": {},
   "source": [
    "## Creation du modele\n",
    "\n",
    "- convolution\n",
    "- dense\n",
    "- pooling"
   ]
  },
  {
   "cell_type": "code",
   "execution_count": 8,
   "metadata": {},
   "outputs": [],
   "source": [
    "def create_model() -> Sequential:\n",
    "    model = Sequential()\n",
    "\n",
    "    model.add(Conv2D(16, kernel_size=3, padding='same', activation='relu', input_shape=(32,32,3)))\n",
    "    model.add(MaxPooling2D(pool_size=(2, 2)))\n",
    "    model.add(Conv2D(32, kernel_size=3, padding='same', activation='relu'))\n",
    "    model.add(Conv2D(64, kernel_size=3, padding='same', activation='relu'))\n",
    "\n",
    "    #Toujours à la fin\n",
    "    model.add(Flatten())\n",
    "    model.add(Dense(len(label_list), activation='softmax'))\n",
    "\n",
    "    model.summary()\n",
    "    return model\n",
    "\n",
    "result_dir = \"result\" + os.sep"
   ]
  },
  {
   "cell_type": "code",
   "execution_count": 9,
   "metadata": {},
   "outputs": [
    {
     "name": "stdout",
     "output_type": "stream",
     "text": [
      "Model: \"sequential\"\n",
      "_________________________________________________________________\n",
      "Layer (type)                 Output Shape              Param #   \n",
      "=================================================================\n",
      "conv2d (Conv2D)              (None, 32, 32, 16)        448       \n",
      "_________________________________________________________________\n",
      "max_pooling2d (MaxPooling2D) (None, 16, 16, 16)        0         \n",
      "_________________________________________________________________\n",
      "conv2d_1 (Conv2D)            (None, 16, 16, 32)        4640      \n",
      "_________________________________________________________________\n",
      "conv2d_2 (Conv2D)            (None, 16, 16, 64)        18496     \n",
      "_________________________________________________________________\n",
      "flatten (Flatten)            (None, 16384)             0         \n",
      "_________________________________________________________________\n",
      "dense (Dense)                (None, 10)                163850    \n",
      "=================================================================\n",
      "Total params: 187,434\n",
      "Trainable params: 187,434\n",
      "Non-trainable params: 0\n",
      "_________________________________________________________________\n",
      "Epoch 1/20\n",
      "625/625 [==============================] - 320s 512ms/step - loss: 1.4964 - acc: 0.4658 - val_loss: 1.2787 - val_acc: 0.5500\n",
      "Epoch 2/20\n",
      "625/625 [==============================] - 44s 71ms/step - loss: 1.1369 - acc: 0.6007 - val_loss: 1.0748 - val_acc: 0.6268\n",
      "Epoch 3/20\n",
      "625/625 [==============================] - 44s 70ms/step - loss: 0.9726 - acc: 0.6619 - val_loss: 1.0065 - val_acc: 0.6525\n",
      "Epoch 4/20\n",
      "625/625 [==============================] - 44s 70ms/step - loss: 0.8657 - acc: 0.6995 - val_loss: 0.9765 - val_acc: 0.6630\n",
      "Epoch 5/20\n",
      "625/625 [==============================] - 44s 70ms/step - loss: 0.7716 - acc: 0.7334 - val_loss: 0.9584 - val_acc: 0.6646\n",
      "Epoch 6/20\n",
      "625/625 [==============================] - 44s 70ms/step - loss: 0.6841 - acc: 0.7661 - val_loss: 0.9294 - val_acc: 0.6791\n",
      "Epoch 7/20\n",
      "625/625 [==============================] - 43s 69ms/step - loss: 0.6119 - acc: 0.7887 - val_loss: 1.0058 - val_acc: 0.6674\n",
      "Epoch 8/20\n",
      "625/625 [==============================] - 44s 71ms/step - loss: 0.5384 - acc: 0.8148 - val_loss: 1.0036 - val_acc: 0.6777\n",
      "Epoch 9/20\n",
      "625/625 [==============================] - 43s 69ms/step - loss: 0.4658 - acc: 0.8381 - val_loss: 1.0740 - val_acc: 0.6724\n",
      "Epoch 10/20\n",
      "625/625 [==============================] - 44s 71ms/step - loss: 0.3922 - acc: 0.8636 - val_loss: 1.1041 - val_acc: 0.6744\n",
      "Epoch 11/20\n",
      "625/625 [==============================] - 43s 69ms/step - loss: 0.3375 - acc: 0.8827 - val_loss: 1.1935 - val_acc: 0.6714\n",
      "Epoch 12/20\n",
      "625/625 [==============================] - 44s 71ms/step - loss: 0.2796 - acc: 0.9041 - val_loss: 1.2915 - val_acc: 0.6650\n",
      "Epoch 13/20\n",
      "625/625 [==============================] - 43s 69ms/step - loss: 0.2375 - acc: 0.9176 - val_loss: 1.4584 - val_acc: 0.6603\n",
      "Epoch 14/20\n",
      "625/625 [==============================] - 44s 71ms/step - loss: 0.1932 - acc: 0.9342 - val_loss: 1.6090 - val_acc: 0.6525\n",
      "Epoch 15/20\n",
      "625/625 [==============================] - 43s 69ms/step - loss: 0.1651 - acc: 0.9436 - val_loss: 1.6902 - val_acc: 0.6529\n",
      "Epoch 16/20\n",
      "625/625 [==============================] - 44s 71ms/step - loss: 0.1402 - acc: 0.9511 - val_loss: 1.7880 - val_acc: 0.6554\n",
      "Epoch 17/20\n",
      "625/625 [==============================] - 43s 69ms/step - loss: 0.1208 - acc: 0.9584 - val_loss: 1.9412 - val_acc: 0.6559\n",
      "Epoch 18/20\n",
      "625/625 [==============================] - 45s 71ms/step - loss: 0.1156 - acc: 0.9593 - val_loss: 2.0421 - val_acc: 0.6506\n",
      "Epoch 19/20\n",
      "625/625 [==============================] - 43s 70ms/step - loss: 0.0908 - acc: 0.9687 - val_loss: 2.1437 - val_acc: 0.6476\n",
      "Epoch 20/20\n",
      "625/625 [==============================] - 45s 71ms/step - loss: 0.0909 - acc: 0.9688 - val_loss: 2.3632 - val_acc: 0.6395\n"
     ]
    }
   ],
   "source": [
    "model = create_model()\n",
    "model.compile(optimizer='adam', loss='categorical_crossentropy', metrics=['accuracy'])\n",
    "\n",
    "training = model.fit(train_generator, epochs=20, validation_data=validation_generator, shuffle=False)\n",
    "\n",
    "model_save = result_dir + 'model.h5'\n",
    "model.save(model_save)\n",
    "del model"
   ]
  },
  {
   "cell_type": "code",
   "execution_count": 10,
   "metadata": {},
   "outputs": [
    {
     "name": "stdout",
     "output_type": "stream",
     "text": [
      "Model: \"sequential_1\"\n",
      "_________________________________________________________________\n",
      "Layer (type)                 Output Shape              Param #   \n",
      "=================================================================\n",
      "conv2d_3 (Conv2D)            (None, 32, 32, 16)        448       \n",
      "_________________________________________________________________\n",
      "max_pooling2d_1 (MaxPooling2 (None, 16, 16, 16)        0         \n",
      "_________________________________________________________________\n",
      "conv2d_4 (Conv2D)            (None, 16, 16, 32)        4640      \n",
      "_________________________________________________________________\n",
      "conv2d_5 (Conv2D)            (None, 16, 16, 64)        18496     \n",
      "_________________________________________________________________\n",
      "flatten_1 (Flatten)          (None, 16384)             0         \n",
      "_________________________________________________________________\n",
      "dense_1 (Dense)              (None, 10)                163850    \n",
      "=================================================================\n",
      "Total params: 187,434\n",
      "Trainable params: 187,434\n",
      "Non-trainable params: 0\n",
      "_________________________________________________________________\n",
      "Epoch 1/20\n",
      "625/625 [==============================] - 75s 121ms/step - loss: 1.6721 - acc: 0.4031 - val_loss: 1.3076 - val_acc: 0.5325\n",
      "Epoch 2/20\n",
      "625/625 [==============================] - 74s 119ms/step - loss: 1.3905 - acc: 0.5073 - val_loss: 1.1640 - val_acc: 0.5841\n",
      "Epoch 3/20\n",
      "625/625 [==============================] - 75s 120ms/step - loss: 1.2600 - acc: 0.5560 - val_loss: 1.1007 - val_acc: 0.6123\n",
      "Epoch 4/20\n",
      "625/625 [==============================] - 75s 120ms/step - loss: 1.1917 - acc: 0.5840 - val_loss: 1.0234 - val_acc: 0.6458\n",
      "Epoch 5/20\n",
      "625/625 [==============================] - 75s 119ms/step - loss: 1.1324 - acc: 0.6054 - val_loss: 1.0224 - val_acc: 0.6449\n",
      "Epoch 6/20\n",
      "625/625 [==============================] - 75s 119ms/step - loss: 1.0889 - acc: 0.6179 - val_loss: 1.0207 - val_acc: 0.6462\n",
      "Epoch 7/20\n",
      "625/625 [==============================] - 74s 118ms/step - loss: 1.0530 - acc: 0.6345 - val_loss: 0.9213 - val_acc: 0.6849\n",
      "Epoch 8/20\n",
      "625/625 [==============================] - 75s 119ms/step - loss: 1.0313 - acc: 0.6420 - val_loss: 0.9531 - val_acc: 0.6787\n",
      "Epoch 9/20\n",
      "625/625 [==============================] - 21096s 34s/step - loss: 1.0058 - acc: 0.6494 - val_loss: 0.9079 - val_acc: 0.6795\n",
      "Epoch 10/20\n",
      "625/625 [==============================] - 184s 295ms/step - loss: 0.9842 - acc: 0.6587 - val_loss: 0.8924 - val_acc: 0.6883\n",
      "Epoch 11/20\n",
      "625/625 [==============================] - 77s 122ms/step - loss: 0.9657 - acc: 0.6650 - val_loss: 0.8615 - val_acc: 0.7057\n",
      "Epoch 12/20\n",
      "625/625 [==============================] - 77s 123ms/step - loss: 0.9488 - acc: 0.6729 - val_loss: 0.8818 - val_acc: 0.6964\n",
      "Epoch 13/20\n",
      "625/625 [==============================] - 76s 121ms/step - loss: 0.9345 - acc: 0.6775 - val_loss: 0.8387 - val_acc: 0.7076\n",
      "Epoch 14/20\n",
      "625/625 [==============================] - 76s 122ms/step - loss: 0.9131 - acc: 0.6844 - val_loss: 0.8367 - val_acc: 0.7132\n",
      "Epoch 15/20\n",
      "625/625 [==============================] - 76s 122ms/step - loss: 0.9042 - acc: 0.6854 - val_loss: 0.8587 - val_acc: 0.7089\n",
      "Epoch 16/20\n",
      "625/625 [==============================] - 76s 122ms/step - loss: 0.8857 - acc: 0.6948 - val_loss: 0.8553 - val_acc: 0.7067\n",
      "Epoch 17/20\n",
      "625/625 [==============================] - 76s 122ms/step - loss: 0.8837 - acc: 0.6930 - val_loss: 0.8505 - val_acc: 0.7097\n",
      "Epoch 18/20\n",
      "625/625 [==============================] - 76s 122ms/step - loss: 0.8721 - acc: 0.6974 - val_loss: 0.8293 - val_acc: 0.7158\n",
      "Epoch 19/20\n",
      "625/625 [==============================] - 78s 124ms/step - loss: 0.8610 - acc: 0.7035 - val_loss: 0.8112 - val_acc: 0.7195\n",
      "Epoch 20/20\n",
      "625/625 [==============================] - 72s 116ms/step - loss: 0.8472 - acc: 0.7068 - val_loss: 0.7993 - val_acc: 0.7264\n"
     ]
    }
   ],
   "source": [
    "augmented_model = create_model()\n",
    "augmented_model.compile(optimizer='adam', loss='categorical_crossentropy', metrics=['accuracy'])\n",
    "\n",
    "augmented_training = augmented_model.fit(train_generator_augmented, epochs=20, validation_data=validation_generator, shuffle=False)\n",
    "\n",
    "model_save = result_dir + 'augmented_model.h5'\n",
    "augmented_model.save(model_save)\n",
    "del augmented_model"
   ]
  },
  {
   "cell_type": "markdown",
   "metadata": {},
   "source": [
    "## Plotting"
   ]
  },
  {
   "cell_type": "code",
   "execution_count": 11,
   "metadata": {},
   "outputs": [
    {
     "data": {
      "image/png": "[encoded data removed]",
      "text/plain": [
       "<Figure size 432x288 with 1 Axes>"
      ]
     },
     "metadata": {
      "needs_background": "light"
     },
     "output_type": "display_data"
    }
   ],
   "source": [
    "plt.plot(training.history['acc'], color='red', label='Training accuracy')\n",
    "plt.plot(training.history['val_acc'],  color='green', label='Validation accuracy')\n",
    "plt.plot(augmented_training.history['acc'], linestyle=\"dashed\", color='red', label='Augmented Training accuracy')\n",
    "plt.plot(augmented_training.history['val_acc'], linestyle=\"dashed\", color='green', label='Augmented Validation accuracy')\n",
    "\n",
    "plt.xlabel('Epochs')\n",
    "plt.ylabel('Loss')\n",
    "\n",
    "plt.legend()\n",
    "plt.ylim((0,1.01))\n",
    "\n",
    "plt.show()"
   ]
  },
  {
   "cell_type": "code",
   "execution_count": 12,
   "metadata": {},
   "outputs": [
    {
     "data": {
      "image/png": "[encoded data removed]",
      "text/plain": [
       "<Figure size 432x288 with 1 Axes>"
      ]
     },
     "metadata": {
      "needs_background": "light"
     },
     "output_type": "display_data"
    }
   ],
   "source": [
    "plt.plot(training.history['loss'], color='red', label='Training loss')\n",
    "plt.plot(training.history['val_loss'],  color='green', label='Validation loss')\n",
    "plt.plot(augmented_training.history['loss'], linestyle=\"dashed\", color='red', label='Augmented Training accuracy')\n",
    "plt.plot(augmented_training.history['val_loss'], linestyle=\"dashed\", color='green', label='Augmented Validation accuracy')\n",
    "\n",
    "plt.xlabel('Epochs')\n",
    "plt.ylabel('Loss')\n",
    "plt.legend()\n",
    "\n",
    "plt.ylim((0, 2.1))\n",
    "\n",
    "plt.show()"
   ]
  }
 ],
 "metadata": {
  "interpreter": {
   "hash": "2c09572053289cf172619117e40ed75cea904a7717e4ffea19bdcd0bef4096b7"
  },
  "kernelspec": {
   "display_name": "Python 3.8.3 64-bit ('base': conda)",
   "name": "python3"
  },
  "language_info": {
   "codemirror_mode": {
    "name": "ipython",
    "version": 3
   },
   "file_extension": ".py",
   "mimetype": "text/x-python",
   "name": "python",
   "nbconvert_exporter": "python",
   "pygments_lexer": "ipython3",
   "version": "3.7.10"
  },
  "orig_nbformat": 2
 },
 "nbformat": 4,
 "nbformat_minor": 2
}